{
 "cells": [
  {
   "cell_type": "code",
   "execution_count": 1,
   "id": "84d5b3f0-329c-4511-a208-ba10ef8a7548",
   "metadata": {},
   "outputs": [
    {
     "name": "stdout",
     "output_type": "stream",
     "text": [
      "updated list: [10, 3, 4, 5, 6, 8]\n"
     ]
    }
   ],
   "source": [
    "#creating a list \n",
    "my_list = [ 1,2,3,4,5,6]\n",
    "\n",
    "#adding an element to the list \n",
    "my_list.append (8)\n",
    "\n",
    "#removing an element from the list \n",
    "my_list.remove (1)\n",
    "\n",
    "#modifying an element\n",
    "my_list [0] = 10\n",
    "\n",
    "print (\"updated list:\" , my_list)"
   ]
  },
  {
   "cell_type": "code",
   "execution_count": 2,
   "id": "9bad8f22-97ed-4e43-a8d1-98cafc7fd560",
   "metadata": {},
   "outputs": [
    {
     "name": "stdout",
     "output_type": "stream",
     "text": [
      "udpated Dictionary: {'name': 'somya palaei', 'age': 80, 'city': 'Mumbai', 'gender': 'female'}\n"
     ]
    }
   ],
   "source": [
    "#creating dictionary\n",
    "my_dict = {'name': 'somya palaei', 'age': 80, 'city': 'Hydrabad' }\n",
    "\n",
    "#adding\n",
    "my_dict[ 'gender' ] = 'female'\n",
    "\n",
    "#removing \n",
    "my_dict[ 'age' ] \n",
    "\n",
    "#modifying\n",
    "my_dict[ 'city' ] = 'Mumbai'\n",
    "\n",
    "print(\"udpated Dictionary:\" , my_dict)"
   ]
  },
  {
   "cell_type": "code",
   "execution_count": 3,
   "id": "005b9c97-b6d0-436c-9a52-8470b3e12da1",
   "metadata": {},
   "outputs": [
    {
     "name": "stdout",
     "output_type": "stream",
     "text": [
      "updated set: {2, 4, 5, 9, 10}\n"
     ]
    }
   ],
   "source": [
    "#creating a set \n",
    "my_set = { 1,2,3,4,5}\n",
    "\n",
    "#adding \n",
    "my_set.add(9)\n",
    "\n",
    "#removing\n",
    "my_set.remove(3)\n",
    "\n",
    "#modifying\n",
    "my_set.discard(1)\n",
    "my_set.add(10)\n",
    "\n",
    "print(\"updated set:\" , my_set)"
   ]
  },
  {
   "cell_type": "code",
   "execution_count": null,
   "id": "4d88beb0-59f4-4235-b4ce-dedcefefa5a2",
   "metadata": {},
   "outputs": [],
   "source": []
  }
 ],
 "metadata": {
  "kernelspec": {
   "display_name": "Python 3 (ipykernel)",
   "language": "python",
   "name": "python3"
  },
  "language_info": {
   "codemirror_mode": {
    "name": "ipython",
    "version": 3
   },
   "file_extension": ".py",
   "mimetype": "text/x-python",
   "name": "python",
   "nbconvert_exporter": "python",
   "pygments_lexer": "ipython3",
   "version": "3.12.3"
  }
 },
 "nbformat": 4,
 "nbformat_minor": 5
}
